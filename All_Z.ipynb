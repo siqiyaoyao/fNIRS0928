{
 "nbformat": 4,
 "nbformat_minor": 2,
 "metadata": {
  "language_info": {
   "name": "python",
   "codemirror_mode": {
    "name": "ipython",
    "version": 3
   }
  },
  "orig_nbformat": 2,
  "file_extension": ".py",
  "mimetype": "text/x-python",
  "name": "python",
  "npconvert_exporter": "python",
  "pygments_lexer": "ipython3",
  "version": 3
 },
 "cells": [
  {
   "cell_type": "code",
   "execution_count": 1,
   "metadata": {},
   "outputs": [],
   "source": [
    "from pandas import Series\n",
    "from pandas import DataFrame\n",
    "import pandas as pd\n",
    "from matplotlib import pyplot\n",
    "import os\n",
    "import matplotlib.pyplot as plt\n",
    "from pandas.plotting import parallel_coordinates\n",
    "import numpy as np\n",
    "from numpy.lib.stride_tricks import as_strided\n",
    "import scipy.stats as stats\n",
    "\n",
    "#  ML\n",
    "from sklearn.model_selection import KFold\n",
    "from sklearn.discriminant_analysis import LinearDiscriminantAnalysis\n",
    "from sklearn import svm\n",
    "from sklearn.neighbors import KNeighborsClassifier"
   ]
  },
  {
   "cell_type": "code",
   "execution_count": null,
   "metadata": {},
   "outputs": [],
   "source": [
    "All = pd.DataFrame()\n",
    "for i in range(1,15):\n",
    "    fileName = './csv/p'+str(i) +'.csv'\n",
    "    fileNameR = './results/fr/'+str(i) +'.csv'    \n",
    "    df = pd.read_csv(fileName)\n",
    "    All = All.append(dfl, ignore_index=True)\n"
   ]
  }
 ]
}